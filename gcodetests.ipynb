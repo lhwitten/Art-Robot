{
 "cells": [
  {
   "cell_type": "code",
   "execution_count": 3,
   "metadata": {},
   "outputs": [
    {
     "data": {
      "text/plain": [
       "'\\npoint1 = [25,25] #mm\\npoint2 = [40,0] #mm\\ndraw_height = 0 #assuming drawing position is 0\\nGcode_tests.straight_line(test_file,point1,point2,draw_height)'"
      ]
     },
     "execution_count": 3,
     "metadata": {},
     "output_type": "execute_result"
    }
   ],
   "source": [
    "#test making a gcode file\n",
    "import Gcode_tests\n",
    "test_file = \"straight_line_test.gcode\"\n",
    "\n",
    "Gcode_tests.initialize_drawing(test_file)\n",
    "\n",
    "point1 = [5,5] #mm\n",
    "point2 = [50,5] #mm\n",
    "draw_height = 0 #assuming drawing position is 0\n",
    "Gcode_tests.straight_line(test_file,point1,point2,draw_height)\n",
    "\"\"\"\n",
    "point1 = [25,25] #mm\n",
    "point2 = [40,0] #mm\n",
    "draw_height = 0 #assuming drawing position is 0\n",
    "Gcode_tests.straight_line(test_file,point1,point2,draw_height)\"\"\""
   ]
  },
  {
   "cell_type": "code",
   "execution_count": 4,
   "metadata": {},
   "outputs": [],
   "source": [
    "#arbitrary curve\n",
    "import numpy as np\n",
    "import Gcode_tests\n",
    "test_file = \"straight_line_test.gcode\"\n",
    "\n",
    "\n",
    "dummy_var = np.linspace(0,np.pi/2,100)\n",
    "xpoints = []\n",
    "ypoints = []\n",
    "for dummy in dummy_var:\n",
    "    xpoints.append(50*np.cos(dummy))\n",
    "    ypoints.append(50*np.sin(dummy))\n",
    "\n",
    "Gcode_tests.initialize_drawing(test_file)\n",
    "Gcode_tests.arbitrary_curve(test_file,xpoints,ypoints,draw_height,init_linked=False)\n"
   ]
  },
  {
   "cell_type": "code",
   "execution_count": 9,
   "metadata": {},
   "outputs": [],
   "source": [
    "\n",
    "\n",
    "#arbitrary curve\n",
    "import numpy as np\n",
    "import Gcode_tests\n",
    "test_file = \"straight_line_test.gcode\"\n",
    "\n",
    "with open(test_file,\"w\") as f:\n",
    "    var1 = 0\n",
    "\n",
    "draw_height=0\n",
    "dummy_var = np.linspace(0,np.pi*2,40)\n",
    "dummy_var1 = np.linspace(0,np.pi,20)\n",
    "dummy_var2 = np.linspace(0,np.pi*2,40)\n",
    "\n",
    "center = [400,400]\n",
    "xpoints = []\n",
    "ypoints = []\n",
    "for dummy in dummy_var:\n",
    "    xpoints.append(center[0] + 300*np.cos(dummy))\n",
    "    ypoints.append(center[1]+ 300*np.sin(dummy))\n",
    "Gcode_tests.arbitrary_curve(test_file,xpoints,ypoints,draw_height,init_linked=False)\n",
    "xpoints = []\n",
    "ypoints = []\n",
    "\n",
    "for dummy in dummy_var2:\n",
    "    xpoints.append(center[0] +100+ 30*np.cos(dummy))\n",
    "    ypoints.append(center[1]+100+ 30*np.sin(dummy))\n",
    "\n",
    "#Gcode_tests.initialize_drawing(test_file)\n",
    "Gcode_tests.arbitrary_curve(test_file,xpoints,ypoints,draw_height,init_linked=False)\n",
    "xpoints = []\n",
    "ypoints = []\n",
    "for dummy in dummy_var2:\n",
    "    xpoints.append(center[0] -100+ 30*np.cos(dummy))\n",
    "    ypoints.append(center[1] +100+ 30*np.sin(dummy))\n",
    "\n",
    "#Gcode_tests.initialize_drawing(test_file)\n",
    "Gcode_tests.arbitrary_curve(test_file,xpoints,ypoints,draw_height,init_linked=False)\n",
    "xpoints = []\n",
    "ypoints = []\n",
    "\n",
    "for dummy in dummy_var1:\n",
    "    xpoints.append(center[0] - 200*np.cos(-dummy))\n",
    "    ypoints.append(center[1]+ 200*np.sin(-dummy))\n",
    "\n",
    "#Gcode_tests.initialize_drawing(test_file)\n",
    "Gcode_tests.arbitrary_curve(test_file,xpoints,ypoints,draw_height,init_linked=False)\n",
    "xpoints = []\n",
    "ypoints = []"
   ]
  },
  {
   "cell_type": "code",
   "execution_count": null,
   "metadata": {},
   "outputs": [],
   "source": [
    "import svg_test\n",
    "\n",
    "test_file = \"test_svg.svg\"\n",
    "\n",
    "#generate a simple svg\n",
    "bed_range_y = 5 #inches\n",
    "bed_range_x = 5 #inches\n",
    "drawing_scale = 100 #incriments per inch\n",
    "\n",
    "point_list = [[0,0],[0,100],[75,75],[450,350],[189,200]]\n",
    "\n",
    "svg_test.initialize_drawing(test_file,[bed_range_x,bed_range_x],drawing_scale)\n",
    "svg_test.polyline_svg(test_file,point_list)\n",
    "svg_test.finish_drawing(test_file)\n"
   ]
  },
  {
   "cell_type": "code",
   "execution_count": 1,
   "metadata": {},
   "outputs": [
    {
     "name": "stdout",
     "output_type": "stream",
     "text": [
      "[0, 0, '700', '700']\n",
      "[0.7142857142857143, 0.7142857142857143]\n"
     ]
    }
   ],
   "source": [
    "import svg_test\n",
    "import bezier\n",
    "import numpy as np\n",
    "#test_file = \"test_svg2.svg\"\n",
    "#test_file = \"kittykat.svg\"\n",
    "#test_file = \"heartbeat.svg\"\n",
    "#test_file = \"bat.svg\"\n",
    "#test_file = \"triangle.svg\"\n",
    "#test_file = \"amon2.svg\"\n",
    "test_file = \"shark.svg\"\n",
    "write_file = \"write_file.gcode\"\n",
    "var1 =1\n",
    "#clear the write file\n",
    "with open(write_file,\"w\") as f:\n",
    "    var1 = 0\n",
    "\n",
    "#1790,914\n",
    "bed_dimensions = [900,500]\n",
    "\n",
    "\n",
    "command_list,viewBox = svg_test.parse_svg(test_file)\n",
    "#figure out the weird bug with the last point being null\n",
    "\n",
    "#print(command_list)\n",
    "#print(viewBox)\n",
    "\n",
    "#print(command_list)\n",
    "#max_scale =-1 for uncapped\n",
    "scalers = svg_test.find_scale(viewBox,bed_dimensions,max_scale=-1,stretch_scale=False)\n",
    "\n",
    "#scalers = [4,1]\n",
    "\n",
    "scaled_commands = bezier.scale_commands(command_list,scalers)\n",
    "print(scalers)\n",
    "#print(scaled_commands)\n",
    "bezier.svg_commands_to_gcode(write_file,[0,0],scaled_commands,[1,1],0)"
   ]
  },
  {
   "cell_type": "code",
   "execution_count": 3,
   "metadata": {},
   "outputs": [],
   "source": [
    "#for parsing a single line\n",
    "import svg_test\n",
    "list_of_lists = []\n",
    "command = \"c 20 50 -50 60 -50 -100 200 2 14 14 24 12\"\n",
    "letter = \"c\"\n",
    "letter_dict = stopcode_dict = {'M':2,\"L\":2,\"H\":1,\"V\":1,\"C\":6,\"S\":4,\"Q\":4,\"T\":2,\"A\":7,\"Z\":0, \\\n",
    "    'm':2,\"l\":2,\"h\":1,\"v\":1,\"c\":6,\"s\":4,\"q\":4,\"t\":2,\"a\":7,\"z\":0}\n",
    "\n",
    "svg_test.parse_single_command(list_of_lists,command,letter,letter_dict)"
   ]
  },
  {
   "cell_type": "code",
   "execution_count": 2,
   "metadata": {},
   "outputs": [
    {
     "name": "stdout",
     "output_type": "stream",
     "text": [
      "[45, 100, -25, 110, -25, -50]\n",
      "([[25.0, 50.0], [27.966472303206995, 60.05466472303207], [28.52769679300292, 68.60058309037902], [27.033527696792998, 75.35349854227405], [23.83381924198251, 80.02915451895043], [19.278425655976676, 82.34329446064139], [13.717201166180757, 82.01166180758017], [7.5, 78.75], [0.9766763848396529, 72.27405247813411], [-5.502915451895036, 62.29956268221575], [-11.588921282798827, 48.542274052478156], [-16.93148688046647, 30.717930029154523], [-21.18075801749271, 8.542274052478149], [-23.986880466472304, -18.268950437317752], [-25.0, -50.0]], [-25.0, -50.0])\n"
     ]
    }
   ],
   "source": [
    "\"test code for turning a single bezier curve into a list of points\"\n",
    "import bezier\n",
    "start_point = [25,50]\n",
    "c_curve = ['c', '20', '50', '-50', '60', '-50', '-100']\n",
    "\n",
    "\n",
    "points = bezier.path_C(start_point,c_curve,15)\n",
    "\n",
    "print(points)"
   ]
  },
  {
   "cell_type": "code",
   "execution_count": 1,
   "metadata": {},
   "outputs": [
    {
     "ename": "ValueError",
     "evalue": "invalid literal for int() with base 10: '32px'",
     "output_type": "error",
     "traceback": [
      "\u001b[1;31m---------------------------------------------------------------------------\u001b[0m",
      "\u001b[1;31mValueError\u001b[0m                                Traceback (most recent call last)",
      "\u001b[1;32mc:\\Users\\lwitten\\personal_projects_git\\GitHub\\Art-Robot\\gcodetests.ipynb Cell 7\u001b[0m in \u001b[0;36m<cell line: 10>\u001b[1;34m()\u001b[0m\n\u001b[0;32m      <a href='vscode-notebook-cell:/c%3A/Users/lwitten/personal_projects_git/GitHub/Art-Robot/gcodetests.ipynb#W6sZmlsZQ%3D%3D?line=6'>7</a>\u001b[0m write_file \u001b[39m=\u001b[39m \u001b[39m\"\u001b[39m\u001b[39mstraight_line_test.gcode\u001b[39m\u001b[39m\"\u001b[39m\n\u001b[0;32m      <a href='vscode-notebook-cell:/c%3A/Users/lwitten/personal_projects_git/GitHub/Art-Robot/gcodetests.ipynb#W6sZmlsZQ%3D%3D?line=8'>9</a>\u001b[0m \u001b[39m#get commands from the svg.\u001b[39;00m\n\u001b[1;32m---> <a href='vscode-notebook-cell:/c%3A/Users/lwitten/personal_projects_git/GitHub/Art-Robot/gcodetests.ipynb#W6sZmlsZQ%3D%3D?line=9'>10</a>\u001b[0m command_list \u001b[39m=\u001b[39m svg_test\u001b[39m.\u001b[39;49mparse_svg(test_file)\n\u001b[0;32m     <a href='vscode-notebook-cell:/c%3A/Users/lwitten/personal_projects_git/GitHub/Art-Robot/gcodetests.ipynb#W6sZmlsZQ%3D%3D?line=11'>12</a>\u001b[0m \u001b[39m#print(command_list)\u001b[39;00m\n\u001b[0;32m     <a href='vscode-notebook-cell:/c%3A/Users/lwitten/personal_projects_git/GitHub/Art-Robot/gcodetests.ipynb#W6sZmlsZQ%3D%3D?line=12'>13</a>\u001b[0m \u001b[39m#Create points from SVG commands and write to Gcode\u001b[39;00m\n\u001b[0;32m     <a href='vscode-notebook-cell:/c%3A/Users/lwitten/personal_projects_git/GitHub/Art-Robot/gcodetests.ipynb#W6sZmlsZQ%3D%3D?line=13'>14</a>\u001b[0m bezier\u001b[39m.\u001b[39msvg_commands_to_gcode(write_file,[\u001b[39m0\u001b[39m,\u001b[39m0\u001b[39m],command_list,\u001b[39m0\u001b[39m)\n",
      "File \u001b[1;32mc:\\Users\\lwitten\\personal_projects_git\\GitHub\\Art-Robot\\svg_test.py:109\u001b[0m, in \u001b[0;36mparse_svg\u001b[1;34m(filename)\u001b[0m\n\u001b[0;32m    103\u001b[0m temp_end \u001b[39m=\u001b[39m command\u001b[39m.\u001b[39mfind(\u001b[39m\"\u001b[39m\u001b[39m\\\"\u001b[39;00m\u001b[39m\"\u001b[39m,temp_start)\n\u001b[0;32m    105\u001b[0m \u001b[39m#print(temp_start)\u001b[39;00m\n\u001b[0;32m    106\u001b[0m \u001b[39m#print(temp_end)\u001b[39;00m\n\u001b[0;32m    107\u001b[0m \n\u001b[0;32m    108\u001b[0m \u001b[39m#print(command)\u001b[39;00m\n\u001b[1;32m--> 109\u001b[0m viewBox[\u001b[39m3\u001b[39m] \u001b[39m=\u001b[39m \u001b[39mint\u001b[39;49m(command[temp_start:temp_end])\n\u001b[0;32m    111\u001b[0m temp_start \u001b[39m=\u001b[39m command\u001b[39m.\u001b[39mfind(\u001b[39m\"\u001b[39m\u001b[39mwidth=\u001b[39m\u001b[39m\"\u001b[39m) \u001b[39m+\u001b[39m\u001b[39m7\u001b[39m\n\u001b[0;32m    112\u001b[0m temp_end \u001b[39m=\u001b[39m command\u001b[39m.\u001b[39mfind(\u001b[39m\"\u001b[39m\u001b[39m\\\"\u001b[39;00m\u001b[39m\"\u001b[39m,temp_start)\n",
      "\u001b[1;31mValueError\u001b[0m: invalid literal for int() with base 10: '32px'"
     ]
    }
   ],
   "source": [
    "#svg to gcode directly\n",
    "import svg_test\n",
    "import bezier\n",
    "\n",
    "#test_file = \"test_svg2.svg\"\n",
    "test_file = \"heartbeat.svg\"\n",
    "write_file = \"straight_line_test.gcode\"\n",
    "\n",
    "#get commands from the svg.\n",
    "command_list = svg_test.parse_svg(test_file)\n",
    "\n",
    "#print(command_list)\n",
    "#Create points from SVG commands and write to Gcode\n",
    "bezier.svg_commands_to_gcode(write_file,[0,0],command_list,0)"
   ]
  }
 ],
 "metadata": {
  "kernelspec": {
   "display_name": "Python 3.8.2 64-bit",
   "language": "python",
   "name": "python3"
  },
  "language_info": {
   "codemirror_mode": {
    "name": "ipython",
    "version": 3
   },
   "file_extension": ".py",
   "mimetype": "text/x-python",
   "name": "python",
   "nbconvert_exporter": "python",
   "pygments_lexer": "ipython3",
   "version": "3.8.2"
  },
  "orig_nbformat": 4,
  "vscode": {
   "interpreter": {
    "hash": "570feb405e2e27c949193ac68f46852414290d515b0ba6e5d90d076ed2284471"
   }
  }
 },
 "nbformat": 4,
 "nbformat_minor": 2
}
