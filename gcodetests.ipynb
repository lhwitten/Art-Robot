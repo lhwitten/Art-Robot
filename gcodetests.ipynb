{
 "cells": [
  {
   "cell_type": "code",
   "execution_count": 6,
   "metadata": {},
   "outputs": [
    {
     "data": {
      "text/plain": [
       "'\\npoint1 = [25,25] #mm\\npoint2 = [40,0] #mm\\ndraw_height = 0 #assuming drawing position is 0\\nGcode_tests.straight_line(test_file,point1,point2,draw_height)'"
      ]
     },
     "execution_count": 6,
     "metadata": {},
     "output_type": "execute_result"
    }
   ],
   "source": [
    "#test making a gcode file\n",
    "import Gcode_tests\n",
    "test_file = \"straight_line_test.gcode\"\n",
    "\n",
    "Gcode_tests.initialize_drawing(test_file)\n",
    "\n",
    "point1 = [5,5] #mm\n",
    "point2 = [50,5] #mm\n",
    "draw_height = 0 #assuming drawing position is 0\n",
    "Gcode_tests.straight_line(test_file,point1,point2,draw_height)\n",
    "\"\"\"\n",
    "point1 = [25,25] #mm\n",
    "point2 = [40,0] #mm\n",
    "draw_height = 0 #assuming drawing position is 0\n",
    "Gcode_tests.straight_line(test_file,point1,point2,draw_height)\"\"\""
   ]
  },
  {
   "cell_type": "code",
   "execution_count": 4,
   "metadata": {},
   "outputs": [],
   "source": [
    "#arbitrary curve\n",
    "import numpy as np\n",
    "import Gcode_tests\n",
    "test_file = \"straight_line_test.gcode\"\n",
    "\n",
    "\n",
    "dummy_var = np.linspace(0,np.pi/2,100)\n",
    "xpoints = []\n",
    "ypoints = []\n",
    "for dummy in dummy_var:\n",
    "    xpoints.append(50*np.cos(dummy))\n",
    "    ypoints.append(50*np.sin(dummy))\n",
    "\n",
    "Gcode_tests.initialize_drawing(test_file)\n",
    "Gcode_tests.arbitrary_curve(test_file,xpoints,ypoints,draw_height,init_linked=False)\n"
   ]
  },
  {
   "cell_type": "code",
   "execution_count": null,
   "metadata": {},
   "outputs": [],
   "source": [
    "import svg_test\n",
    "\n",
    "test_file = \"test_svg.svg\"\n",
    "\n",
    "#generate a simple svg\n",
    "bed_range_y = 5 #inches\n",
    "bed_range_x = 5 #inches\n",
    "drawing_scale = 100 #incriments per inch\n",
    "\n",
    "point_list = [[0,0],[0,100],[75,75],[450,350],[189,200]]\n",
    "\n",
    "svg_test.initialize_drawing(test_file,[bed_range_x,bed_range_x],drawing_scale)\n",
    "svg_test.polyline_svg(test_file,point_list)\n",
    "svg_test.finish_drawing(test_file)\n"
   ]
  }
 ],
 "metadata": {
  "kernelspec": {
   "display_name": "Python 3.8.2 64-bit",
   "language": "python",
   "name": "python3"
  },
  "language_info": {
   "codemirror_mode": {
    "name": "ipython",
    "version": 3
   },
   "file_extension": ".py",
   "mimetype": "text/x-python",
   "name": "python",
   "nbconvert_exporter": "python",
   "pygments_lexer": "ipython3",
   "version": "3.8.2"
  },
  "orig_nbformat": 4,
  "vscode": {
   "interpreter": {
    "hash": "570feb405e2e27c949193ac68f46852414290d515b0ba6e5d90d076ed2284471"
   }
  }
 },
 "nbformat": 4,
 "nbformat_minor": 2
}
